{
  "cells": [
    {
      "cell_type": "markdown",
      "metadata": {
        "id": "view-in-github",
        "colab_type": "text"
      },
      "source": [
        "<a href=\"https://colab.research.google.com/github/VinbelKing/Marvin-Azuogu-AI-Portfolio-/blob/main/L02_Marvin_Azuogu_ITAI_2373.ipynb\" target=\"_parent\"><img src=\"https://colab.research.google.com/assets/colab-badge.svg\" alt=\"Open In Colab\"/></a>"
      ]
    },
    {
      "cell_type": "markdown",
      "metadata": {
        "id": "97QBHyofeV98"
      },
      "source": [
        "# Lab 02: Basic NLP Preprocessing Techniques\n",
        "\n",
        "**Course:** ITAI 2373 - Natural Language Processing  \n",
        "**Module:** 02 - Text Preprocessing  \n",
        "**Duration:** 2-3 hours  \n",
        "**Student Name:** ________________  \n",
        "**Date:** ________________\n",
        "\n",
        "---\n",
        "\n",
        "## 🎯 Learning Objectives\n",
        "\n",
        "By completing this lab, you will:\n",
        "1. Understand the critical role of preprocessing in NLP pipelines\n",
        "2. Master fundamental text preprocessing techniques\n",
        "3. Compare different libraries and their approaches\n",
        "4. Analyze the effects of preprocessing on text data\n",
        "5. Build a complete preprocessing pipeline\n",
        "6. Load and work with different types of text datasets"
      ]
    },
    {
      "cell_type": "markdown",
      "metadata": {
        "id": "_v-L6J3seV99"
      },
      "source": [
        "## 📖 Introduction to NLP Preprocessing\n",
        "\n",
        "Natural Language Processing (NLP) preprocessing refers to the initial steps taken to clean and transform raw text data into a format that's more suitable for analysis by machine learning algorithms.\n",
        "\n",
        "### Why is preprocessing crucial?\n",
        "\n",
        "1. **Standardization:** Ensures consistent text format across your dataset\n",
        "2. **Noise Reduction:** Removes irrelevant information that could confuse algorithms\n",
        "3. **Complexity Reduction:** Simplifies text to focus on meaningful patterns\n",
        "4. **Performance Enhancement:** Improves the efficiency and accuracy of downstream tasks\n",
        "\n",
        "### Real-world Impact\n",
        "Consider searching for \"running shoes\" vs \"Running Shoes!\" - without preprocessing, these might be treated as completely different queries. Preprocessing ensures they're recognized as equivalent."
      ]
    },
    {
      "cell_type": "markdown",
      "metadata": {
        "id": "B1AajM1neV99"
      },
      "source": [
        "### 🤔 Conceptual Question 1\n",
        "**Before we start coding, think about your daily interactions with text processing systems (search engines, chatbots, translation apps). What challenges do you think these systems face when processing human language? List at least 3 specific challenges and explain why each is problematic.**\n",
        "\n",
        "*Double-click this cell to write your answer:*\n",
        "\n",
        "**Challenge 1:**Ambiguity: Polysemy and Homonymy\n",
        "\n",
        "**Challenge 2:**Nuance and Contextual Understanding: Sarcasm, Irony, Idioms, Cultural References\n",
        "\n",
        "**Challenge 3:**Language and Informal Communication: Slang, Emojis, Misspellings, Grammatical Errors\n",
        "\n",
        "---"
      ]
    },
    {
      "cell_type": "markdown",
      "metadata": {
        "id": "pXDC1YX1eV99"
      },
      "source": [
        "## 🛠️ Part 1: Environment Setup\n",
        "\n",
        "We'll be working with two major NLP libraries:\n",
        "- **NLTK (Natural Language Toolkit):** Comprehensive NLP library with extensive resources\n",
        "- **spaCy:** Industrial-strength NLP with pre-trained models\n",
        "\n",
        "**⚠️ Note:** Installation might take 2-3 minutes to complete."
      ]
    },
    {
      "cell_type": "code",
      "execution_count": 1,
      "metadata": {
        "id": "IjSAdym1eV99",
        "colab": {
          "base_uri": "https://localhost:8080/"
        },
        "outputId": "24a66368-046f-40f9-cb73-32da0b1e255a"
      },
      "outputs": [
        {
          "output_type": "stream",
          "name": "stdout",
          "text": [
            "🔧 Installing NLP libraries...\n",
            "Collecting en-core-web-sm==3.8.0\n",
            "  Downloading https://github.com/explosion/spacy-models/releases/download/en_core_web_sm-3.8.0/en_core_web_sm-3.8.0-py3-none-any.whl (12.8 MB)\n",
            "\u001b[2K     \u001b[90m━━━━━━━━━━━━━━━━━━━━━━━━━━━━━━━━━━━━━━━━\u001b[0m \u001b[32m12.8/12.8 MB\u001b[0m \u001b[31m55.3 MB/s\u001b[0m eta \u001b[36m0:00:00\u001b[0m\n",
            "\u001b[?25h\u001b[38;5;2m✔ Download and installation successful\u001b[0m\n",
            "You can now load the package via spacy.load('en_core_web_sm')\n",
            "\u001b[38;5;3m⚠ Restart to reload dependencies\u001b[0m\n",
            "If you are in a Jupyter or Colab notebook, you may need to restart Python in\n",
            "order to load all the package's dependencies. You can do this by selecting the\n",
            "'Restart kernel' or 'Restart runtime' option.\n",
            "✅ Installation complete!\n"
          ]
        }
      ],
      "source": [
        "# Step 1: Install Required Libraries\n",
        "print(\"🔧 Installing NLP libraries...\")\n",
        "\n",
        "!pip install -q nltk spacy\n",
        "!python -m spacy download en_core_web_sm\n",
        "\n",
        "print(\"✅ Installation complete!\")"
      ]
    },
    {
      "cell_type": "markdown",
      "metadata": {
        "id": "u0qYPPfkeV9-"
      },
      "source": [
        "### 🤔 Conceptual Question 2\n",
        "**Why do you think we need to install a separate language model (en_core_web_sm) for spaCy? What components might this model contain that help with text processing? Think about what information a computer needs to understand English text.**\n",
        "\n",
        "*Double-click this cell to write your answer:*\n",
        "\n",
        "Installing a separate language model like en_core_web_sm for spaCy is crucial because language is diverse, and a single model can't effectively process all languages. It also allows for efficiency, as users only download the models they need, and specialization, enabling models to be optimized for specific domains or tasks.\n",
        "\n",
        "To understand English text, a computer needs various linguistic components, which en_core_web_sm provides. These include:\n",
        "\n",
        "Tokenizer: Breaks text into words and punctuation.\n",
        "Part-of-Speech (POS) Tagger: Assigns grammatical labels (noun, verb, adjective) to words.\n",
        "Lemmatizer: Reduces words to their base form (e.g., \"running\" to \"run\").\n",
        "Dependency Parser: Analyzes the grammatical relationships between words in a sentence.\n",
        "Named Entity Recognizer (NER): Identifies and categorizes entities like people, organizations, and locations.\n",
        "Sentence Segmenter (Senter): Detects sentence boundaries.\n",
        "tok2vec: Generates numerical representations (embeddings) of words to capture their semantic meaning.\n",
        "These components work together in a pipeline to provide a rich, structured understanding of text, enabling various NLP tasks.\n",
        "\n",
        "---"
      ]
    },
    {
      "cell_type": "code",
      "execution_count": 2,
      "metadata": {
        "id": "uqponRiceV9-",
        "colab": {
          "base_uri": "https://localhost:8080/"
        },
        "outputId": "d59cd5df-caf8-4fb0-f6e1-08768007a943"
      },
      "outputs": [
        {
          "output_type": "stream",
          "name": "stdout",
          "text": [
            "📦 Downloading NLTK data packages...\n"
          ]
        },
        {
          "output_type": "stream",
          "name": "stderr",
          "text": [
            "[nltk_data] Downloading package punkt to /root/nltk_data...\n",
            "[nltk_data]   Unzipping tokenizers/punkt.zip.\n",
            "[nltk_data] Downloading package stopwords to /root/nltk_data...\n",
            "[nltk_data]   Unzipping corpora/stopwords.zip.\n",
            "[nltk_data] Downloading package wordnet to /root/nltk_data...\n",
            "[nltk_data] Downloading package averaged_perceptron_tagger to\n",
            "[nltk_data]     /root/nltk_data...\n",
            "[nltk_data]   Unzipping taggers/averaged_perceptron_tagger.zip.\n",
            "[nltk_data] Downloading package punkt_tab to /root/nltk_data...\n"
          ]
        },
        {
          "output_type": "stream",
          "name": "stdout",
          "text": [
            "\n",
            "✅ All imports and downloads completed!\n"
          ]
        },
        {
          "output_type": "stream",
          "name": "stderr",
          "text": [
            "[nltk_data]   Unzipping tokenizers/punkt_tab.zip.\n"
          ]
        }
      ],
      "source": [
        "# Step 2: Import Libraries and Download NLTK Data\n",
        "import nltk\n",
        "import spacy\n",
        "import string\n",
        "import re\n",
        "from collections import Counter\n",
        "\n",
        "# Download essential NLTK data\n",
        "print(\"📦 Downloading NLTK data packages...\")\n",
        "nltk.download('punkt')      # For tokenization\n",
        "nltk.download('stopwords')  # For stop word removal\n",
        "nltk.download('wordnet')    # For lemmatization\n",
        "nltk.download('averaged_perceptron_tagger')  # For POS tagging\n",
        "nltk.download('punkt_tab') # Download punkt_tab resource for tokenization\n",
        "\n",
        "\n",
        "print(\"\\n✅ All imports and downloads completed!\")"
      ]
    },
    {
      "cell_type": "markdown",
      "metadata": {
        "id": "TQye-Ye2eV9-"
      },
      "source": [
        "## 📂 Part 2: Sample Text Data\n",
        "\n",
        "We'll work with different types of text to understand how preprocessing affects various text styles:\n",
        "- Simple text\n",
        "- Academic text (with citations, URLs)\n",
        "- Social media text (with emojis, hashtags)\n",
        "- News text (formal writing)\n",
        "- Product reviews (informal, ratings)"
      ]
    },
    {
      "cell_type": "code",
      "execution_count": 3,
      "metadata": {
        "id": "QNF6oBpFeV9-",
        "colab": {
          "base_uri": "https://localhost:8080/"
        },
        "outputId": "da47e20d-d05e-4f60-aaad-e91415f4db62"
      },
      "outputs": [
        {
          "output_type": "stream",
          "name": "stdout",
          "text": [
            "📄 Sample texts loaded successfully!\n",
            "\n",
            "🏷️ Simple: Natural Language Processing is a fascinating field of AI. It's amazing!\n",
            "\n",
            "🏷️ Academic: Dr. Smith's research on machine-learning algorithms is groundbreaking!\n",
            "She publi...\n",
            "\n",
            "🏷️ Social Media: OMG! Just tried the new coffee shop ☕️ SO GOOD!!! Highly recommend 👍 #coffee #yu...\n",
            "\n",
            "🏷️ News: The stock market experienced significant volatility today, with tech stocks lead...\n",
            "\n",
            "🏷️ Product Review: This laptop is absolutely fantastic! I've been using it for 6 months and it's st...\n"
          ]
        }
      ],
      "source": [
        "# Step 3: Load Sample Texts\n",
        "simple_text = \"Natural Language Processing is a fascinating field of AI. It's amazing!\"\n",
        "\n",
        "academic_text = \"\"\"\n",
        "Dr. Smith's research on machine-learning algorithms is groundbreaking!\n",
        "She published 3 papers in 2023, focusing on deep neural networks (DNNs).\n",
        "The results were amazing - accuracy improved by 15.7%!\n",
        "\"This is revolutionary,\" said Prof. Johnson.\n",
        "Visit https://example.com for more info. #NLP #AI @university\n",
        "\"\"\"\n",
        "\n",
        "social_text = \"OMG! Just tried the new coffee shop ☕️ SO GOOD!!! Highly recommend 👍 #coffee #yum 😍\"\n",
        "\n",
        "news_text = \"\"\"\n",
        "The stock market experienced significant volatility today, with tech stocks leading the decline.\n",
        "Apple Inc. (AAPL) dropped 3.2%, while Microsoft Corp. fell 2.8%.\n",
        "\"We're seeing a rotation out of growth stocks,\" said analyst Jane Doe from XYZ Capital.\n",
        "\"\"\"\n",
        "\n",
        "review_text = \"\"\"\n",
        "This laptop is absolutely fantastic! I've been using it for 6 months and it's still super fast.\n",
        "The battery life is incredible - lasts 8-10 hours easily.\n",
        "Only complaint: the keyboard could be better. Overall rating: 4.5/5 stars.\n",
        "\"\"\"\n",
        "\n",
        "# Store all texts\n",
        "sample_texts = {\n",
        "    \"Simple\": simple_text,\n",
        "    \"Academic\": academic_text.strip(),\n",
        "    \"Social Media\": social_text,\n",
        "    \"News\": news_text.strip(),\n",
        "    \"Product Review\": review_text.strip()\n",
        "}\n",
        "\n",
        "print(\"📄 Sample texts loaded successfully!\")\n",
        "for name, text in sample_texts.items():\n",
        "    preview = text[:80] + \"...\" if len(text) > 80 else text\n",
        "    print(f\"\\n🏷️ {name}: {preview}\")"
      ]
    },
    {
      "cell_type": "markdown",
      "metadata": {
        "id": "RBOSIGXCeV9-"
      },
      "source": [
        "### 🤔 Conceptual Question 3\n",
        "**Looking at the different text types we've loaded, what preprocessing challenges do you anticipate for each type? For each text type below, identify at least 2 specific preprocessing challenges and explain why they might be problematic for NLP analysis.**\n",
        "\n",
        "*Double-click this cell to write your answer:*\n",
        "\n",
        "**Simple text challenges:**\n",
        "1. Lack of Richness/Depth: Limited vocabulary and sentence structure hinder nuanced insight extraction.\n",
        "2. Ambiguity in Short Sentences: Context can be lost, making tasks like coreference resolution difficult.\n",
        "\n",
        "**Academic text challenges:**\n",
        "1. Specialized Vocabulary and Jargon: Domain-specific terms and acronyms may not be understood by general NLP models.\n",
        "2. Complex Sentence Structures and References: Long, intricate sentences and citations complicate parsing and information attribution.\n",
        "\n",
        "**Social media text challenges:**\n",
        "1. Informal Language and Non-Standard Grammar: Slang, abbreviations, and misspellings disrupt standard NLP tokenization and tagging.\n",
        "2. Heavy Use of Emojis, Hashtags, and URLs: These non-textual elements carry meaning that NLP systems must interpret or handle appropriately.\n",
        "\n",
        "**News text challenges:**\n",
        "1. Named Entity Resolution and Disambiguation: Identifying and correctly categorizing numerous named entities, and distinguishing between homonyms, is complex.\n",
        "2. Temporal Expressions and Event Extraction: Accurately identifying and sequencing time-related information and events is challenging.\n",
        "\n",
        "**Product review challenges:**\n",
        "1. Subjectivity and Sentiment Analysis: Identifying the nuanced sentiment and opinion within highly subjective text is difficult.\n",
        "2. Feature Extraction and Aspect-Based Sentiment: Linking sentiment to specific product features (e.g., \"screen\" vs. \"battery life\") requires precise analysis.\n",
        "\n",
        "---"
      ]
    },
    {
      "cell_type": "markdown",
      "metadata": {
        "id": "JLLnDF9YeV9-"
      },
      "source": [
        "## 🔤 Part 3: Tokenization\n",
        "\n",
        "### What is Tokenization?\n",
        "Tokenization is the process of breaking down text into smaller, meaningful units called **tokens**. These tokens are typically words, but can also be sentences, characters, or subwords.\n",
        "\n",
        "### Why is it Important?\n",
        "- Most NLP algorithms work with individual tokens, not entire texts\n",
        "- It's the foundation for all subsequent preprocessing steps\n",
        "- Different tokenization strategies can significantly impact results\n",
        "\n",
        "### Common Challenges:\n",
        "- **Contractions:** \"don't\" → \"do\" + \"n't\" or \"don't\"?\n",
        "- **Punctuation:** Keep with words or separate?\n",
        "- **Special characters:** How to handle @, #, URLs?"
      ]
    },
    {
      "cell_type": "code",
      "execution_count": 4,
      "metadata": {
        "id": "s3T8WpUheV9-",
        "colab": {
          "base_uri": "https://localhost:8080/"
        },
        "outputId": "23e99b51-0b3c-4b95-d287-644e1aeab54c"
      },
      "outputs": [
        {
          "output_type": "stream",
          "name": "stdout",
          "text": [
            "🔍 NLTK Tokenization Results\n",
            "========================================\n",
            "Original: Natural Language Processing is a fascinating field of AI. It's amazing!\n",
            "\n",
            "Word tokens: ['Natural', 'Language', 'Processing', 'is', 'a', 'fascinating', 'field', 'of', 'AI', '.', 'It', \"'s\", 'amazing', '!']\n",
            "Number of tokens: 14\n",
            "\n",
            "Sentences: ['Natural Language Processing is a fascinating field of AI.', \"It's amazing!\"]\n",
            "Number of sentences: 2\n"
          ]
        }
      ],
      "source": [
        "# Step 4: Tokenization with NLTK\n",
        "from nltk.tokenize import word_tokenize, sent_tokenize\n",
        "\n",
        "# Test on simple text\n",
        "print(\"🔍 NLTK Tokenization Results\")\n",
        "print(\"=\" * 40)\n",
        "print(f\"Original: {simple_text}\")\n",
        "\n",
        "# Word tokenization\n",
        "nltk_tokens = word_tokenize(simple_text)\n",
        "print(f\"\\nWord tokens: {nltk_tokens}\")\n",
        "print(f\"Number of tokens: {len(nltk_tokens)}\")\n",
        "\n",
        "# Sentence tokenization\n",
        "sentences = sent_tokenize(simple_text)\n",
        "print(f\"\\nSentences: {sentences}\")\n",
        "print(f\"Number of sentences: {len(sentences)}\")"
      ]
    },
    {
      "cell_type": "markdown",
      "metadata": {
        "id": "8Wlre1ymeV9-"
      },
      "source": [
        "### 🤔 Conceptual Question 4\n",
        "**Examine the NLTK tokenization results above. How did NLTK handle the contraction \"It's\"? What happened to the punctuation marks? Do you think this approach is appropriate for all NLP tasks? Explain your reasoning.**\n",
        "\n",
        "*Double-click this cell to write your answer:*\n",
        "\n",
        "**How \"It's\" was handled:** NLTK's default word tokenizer splits \"It's\" into two tokens: \"It\" and \"'s\". This separates the pronoun from the contracted form of \"is\" or \"has\".\n",
        "\n",
        "**Punctuation treatment:** Punctuation marks (like \"!\" and \".\") are treated as separate tokens. They are isolated from the words they are adjacent to.\n",
        "\n",
        "**Appropriateness for different tasks:** This tokenization approach is not universally appropriate for all NLP tasks.\n",
        "\n",
        "Good for some tasks (e.g., POS tagging, lemmatization, dependency parsing): Separating contractions helps in accurately identifying the base words and their grammatical roles. Treating punctuation as distinct tokens can be beneficial for parsing sentence structure and understanding grammatical relationships.\n",
        "Problematic for other tasks (e.g., sentiment analysis, named entity recognition, exact phrase matching):\n",
        "Sentiment Analysis: Splitting \"It's\" might slightly complicate sentiment analysis if the contraction itself contributes to a specific nuance, though usually, the individual words are sufficient.\n",
        "Named Entity Recognition (NER): If a named entity includes an apostrophe (e.g., \"McDonald's\"), splitting it could hinder its recognition as a single entity.\n",
        "Exact Phrase Matching/Keyword Search: If a user searches for an exact phrase like \"It's amazing\", tokenizing \"It's\" into two parts means the exact phrase won't be matched as a single token sequence, potentially leading to missed results. For tasks requiring literal string matches, this tokenization is too aggressive.\n",
        "In essence, while this tokenization provides a more granular linguistic breakdown, which is excellent for deep linguistic analysis, it can be overly aggressive for tasks where the literal string or specific non-word elements are important.\n",
        "\n",
        "---"
      ]
    },
    {
      "cell_type": "code",
      "execution_count": 5,
      "metadata": {
        "id": "TQKNF-yceV9-",
        "colab": {
          "base_uri": "https://localhost:8080/"
        },
        "outputId": "7cd53f0b-ead2-4f40-9b5c-8a791313504e"
      },
      "outputs": [
        {
          "output_type": "stream",
          "name": "stdout",
          "text": [
            "🔍 spaCy Tokenization Results\n",
            "========================================\n",
            "Original: Natural Language Processing is a fascinating field of AI. It's amazing!\n",
            "\n",
            "Word tokens: ['Natural', 'Language', 'Processing', 'is', 'a', 'fascinating', 'field', 'of', 'AI', '.', 'It', \"'s\", 'amazing', '!']\n",
            "Number of tokens: 14\n",
            "\n",
            "🔬 Detailed Token Analysis:\n",
            "Token        POS      Lemma        Is Alpha Is Stop \n",
            "--------------------------------------------------\n",
            "Natural      PROPN    Natural      1        0       \n",
            "Language     PROPN    Language     1        0       \n",
            "Processing   NOUN     processing   1        0       \n",
            "is           AUX      be           1        1       \n",
            "a            DET      a            1        1       \n",
            "fascinating  ADJ      fascinating  1        0       \n",
            "field        NOUN     field        1        0       \n",
            "of           ADP      of           1        1       \n",
            "AI           PROPN    AI           1        0       \n",
            ".            PUNCT    .            0        0       \n",
            "It           PRON     it           1        1       \n",
            "'s           AUX      be           0        1       \n",
            "amazing      ADJ      amazing      1        0       \n",
            "!            PUNCT    !            0        0       \n"
          ]
        }
      ],
      "source": [
        "# Step 5: Tokenization with spaCy\n",
        "nlp = spacy.load('en_core_web_sm')\n",
        "\n",
        "print(\"🔍 spaCy Tokenization Results\")\n",
        "print(\"=\" * 40)\n",
        "print(f\"Original: {simple_text}\")\n",
        "\n",
        "# Process with spaCy\n",
        "doc = nlp(simple_text)\n",
        "\n",
        "# Extract tokens\n",
        "spacy_tokens = [token.text for token in doc]\n",
        "print(f\"\\nWord tokens: {spacy_tokens}\")\n",
        "print(f\"Number of tokens: {len(spacy_tokens)}\")\n",
        "\n",
        "# Show detailed token information\n",
        "print(f\"\\n🔬 Detailed Token Analysis:\")\n",
        "print(f\"{'Token':<12} {'POS':<8} {'Lemma':<12} {'Is Alpha':<8} {'Is Stop':<8}\")\n",
        "print(\"-\" * 50)\n",
        "for token in doc:\n",
        "    print(f\"{token.text:<12} {token.pos_:<8} {token.lemma_:<12} {token.is_alpha:<8} {token.is_stop:<8}\")"
      ]
    },
    {
      "cell_type": "markdown",
      "metadata": {
        "id": "HCrQbVHceV9_"
      },
      "source": [
        "### 🤔 Conceptual Question 5\n",
        "**Compare the NLTK and spaCy tokenization results. What differences do you notice? Which approach do you think would be better for different NLP tasks? Consider specific examples like sentiment analysis vs. information extraction.**\n",
        "\n",
        "*Double-click this cell to write your answer:*\n",
        "\n",
        "**Key differences observed:** Contractions: NLTK's default word tokenizer typically splits contractions like \"It's\" into two tokens (\"It\", \"'s\"). spaCy, on the other hand, often keeps contractions as a single token by default (\"It's\"), or at least treats them more cohesively, while still being able to access the components through its linguistic pipeline (e.g., it understands that \"'s\" is a lemma of \"is\" or \"has\").\n",
        "Punctuation: Both NLTK and spaCy generally separate punctuation from words. However, spaCy's tokenizer is often more sophisticated in handling specific cases, like correctly tokenizing URLs, emails, or hashtags, keeping them as a single token when appropriate.\n",
        "Integrated Pipeline: A core difference isn't just the raw tokenization but what comes after. spaCy's tokenization is the first step in a much richer, integrated pipeline that immediately adds POS tags, lemmas, dependencies, and named entities. NLTK's tokenization is often a standalone step, requiring explicit calls to other modules for further linguistic processing.\n",
        "\n",
        "**Better for sentiment analysis:** For sentiment analysis, spaCy's approach is generally better.\n",
        "\n",
        "Cohesive Tokens for Context: By often keeping contractions (like \"It's\") and more complex entities (like hashtags or emojis in social media text) as single tokens, spaCy preserves more of the original string's context, which can be crucial for accurate sentiment detection. For example, \"It's not good\" is more easily processed for sentiment if \"It's\" remains a unit, even if its components are understood.\n",
        "Integrated Linguistic Features: spaCy's immediate access to POS tags, lemmas, and dependency parses right after tokenization allows sentiment analysis models to leverage this linguistic information directly. For example, knowing \"amazing\" is an adjective and what word it modifies (\"It\") provides strong signals for positive sentiment.\n",
        "Handling Social Media: Given spaCy's robustness with varied text types (especially with custom rules), it's often better equipped to handle the informalities and non-standard tokens (emojis, hashtags) prevalent in social media, which are critical for sentiment in those contexts.\n",
        "\n",
        "**Better for information extraction:** For information extraction, spaCy's approach is significantly better.\n",
        "\n",
        "Named Entity Recognition (NER) Integration: spaCy's models come with pre-trained NER capabilities directly following tokenization. This means it doesn't just break text into words but immediately identifies and classifies entities like people, organizations, locations, dates, etc. This is fundamental for information extraction (e.g., extracting \"Dr. Smith\" as a PERSON).\n",
        "Dependency Parsing for Relationships: spaCy's integrated dependency parser reveals grammatical relationships between words. This is vital for extracting structured information, such as who did what to whom, or what attribute belongs to which entity (e.g., identifying \"groundbreaking\" as an attribute of \"research\").\n",
        "Efficient Pipeline: The seamless integration of tokenization with other powerful components (NER, POS, dependency parsing, lemmatization) makes spaCy highly efficient for extracting structured information, as all these steps are optimized to work together\n",
        "\n",
        "**Overall assessment:** spaCy generally offers a more robust and efficient solution for most production-level NLP tasks, especially those requiring deeper linguistic understanding like sentiment analysis and information extraction. Its \"batteries-included\" approach with pre-trained models and an integrated pipeline provides richer linguistic annotations immediately after tokenization. While NLTK offers more granular control over individual preprocessing steps and a wider range of algorithms for research or specific low-level tasks, spaCy's holistic design makes it more practical and powerful for building end-to-end NLP applications. NLTK's tokenization is good for foundational text splitting, but spaCy's is part of a much more advanced linguistic processing engine.\n",
        "\n",
        "---"
      ]
    },
    {
      "cell_type": "code",
      "execution_count": 6,
      "metadata": {
        "id": "kCVNmEgseV9_",
        "colab": {
          "base_uri": "https://localhost:8080/"
        },
        "outputId": "09acd7d7-d601-498c-a3f3-a2dff3d60d26"
      },
      "outputs": [
        {
          "output_type": "stream",
          "name": "stdout",
          "text": [
            "🧪 Testing on Social Media Text\n",
            "========================================\n",
            "Original: OMG! Just tried the new coffee shop ☕️ SO GOOD!!! Highly recommend 👍 #coffee #yum 😍\n",
            "\n",
            "NLTK tokens: ['OMG', '!', 'Just', 'tried', 'the', 'new', 'coffee', 'shop', '☕️', 'SO', 'GOOD', '!', '!', '!', 'Highly', 'recommend', '👍', '#', 'coffee', '#', 'yum', '😍']\n",
            "spaCy tokens: ['OMG', '!', 'Just', 'tried', 'the', 'new', 'coffee', 'shop', '☕', '️', 'SO', 'GOOD', '!', '!', '!', 'Highly', 'recommend', '👍', '#', 'coffee', '#', 'yum', '😍']\n",
            "\n",
            "📊 Comparison:\n",
            "NLTK token count: 22\n",
            "spaCy token count: 23\n"
          ]
        }
      ],
      "source": [
        "# Step 6: Test Tokenization on Complex Text\n",
        "print(\"🧪 Testing on Social Media Text\")\n",
        "print(\"=\" * 40)\n",
        "print(f\"Original: {social_text}\")\n",
        "\n",
        "# NLTK approach\n",
        "social_nltk_tokens = word_tokenize(social_text)\n",
        "print(f\"\\nNLTK tokens: {social_nltk_tokens}\")\n",
        "\n",
        "# spaCy approach\n",
        "social_doc = nlp(social_text)\n",
        "social_spacy_tokens = [token.text for token in social_doc]\n",
        "print(f\"spaCy tokens: {social_spacy_tokens}\")\n",
        "\n",
        "print(f\"\\n📊 Comparison:\")\n",
        "print(f\"NLTK token count: {len(social_nltk_tokens)}\")\n",
        "print(f\"spaCy token count: {len(social_spacy_tokens)}\")"
      ]
    },
    {
      "cell_type": "markdown",
      "metadata": {
        "id": "rOYfP6KqeV9_"
      },
      "source": [
        "### 🤔 Conceptual Question 6\n",
        "**Looking at how the libraries handled social media text (emojis, hashtags), which library seems more robust for handling \"messy\" real-world text? What specific advantages do you notice? How might this impact a real-world application like social media sentiment analysis?**\n",
        "\n",
        "*Double-click this cell to write your answer:*\n",
        "\n",
        "**More robust library:** Looking at how the libraries handled social media text, spaCy generally appears more robust for handling \"messy\" real-world text, especially the type found on social media.\n",
        "\n",
        "**Specific advantages:** Looking at how the libraries handled social media text, spaCy generally appears more robust for handling \"messy\" real-world text, especially the type found on social media.\n",
        "\n",
        "Specific Advantages of spaCy:\n",
        "\n",
        "Better Handling of Emojis and Hashtags: While both libraries can tokenize these, spaCy often treats them more intelligently as single meaningful units by default, or with readily available extensions (like spacymoji). NLTK's standard word_tokenize might split #hashtag into ['#', 'hashtag'], while TweetTokenizer in NLTK is designed to keep them together. However, spaCy's entire pipeline is built to integrate these special tokens more seamlessly into the linguistic context.\n",
        "Integrated Pipeline for Deeper Understanding: spaCy's immediate processing after tokenization (POS tagging, dependency parsing, NER) means that even with messy text, it tries to extract more linguistic meaning. For example, if \"SO GOOD!!!\" is tokenized, spaCy will still attempt to assign POS tags and understand its relationship to other words, which is crucial for nuanced analysis.\n",
        "Customizable Tokenization Rules: spaCy is highly customizable. You can modify its tokenizer to create custom rules for specific patterns commonly found in your \"messy\" text (e.g., specific slang, domain-specific abbreviations, or complex emoji combinations). This allows for fine-tuning the preprocessing to perfectly match the peculiarities of your dataset. NLTK also offers flexibility with regex tokenizers and the TweetTokenizer, but spaCy's overall architecture is often seen as more streamlined for building comprehensive NLP pipelines with custom rules.\n",
        "\n",
        "**Impact on sentiment analysis:** The robustness of spaCy's tokenization and integrated pipeline would significantly positively impact a real-world social media sentiment analysis application:\n",
        "\n",
        "Improved Sentiment Accuracy: Emojis are direct indicators of sentiment (e.g., ☕️ is neutral, 👍 is positive). If a tokenizer separates them or ignores them, crucial sentiment cues are lost. spaCy's better handling means these signals are preserved and can be integrated into the sentiment model. Similarly, keeping hashtags like #sogood intact helps correctly identify positive sentiment associated with a specific topic.\n",
        "Enhanced Feature Engineering: For machine learning models, retaining meaningful units like hashtags, emojis, and slang words as single tokens (or at least recognizing their unique properties) allows for better feature engineering. You can create features based on the presence of specific emojis or popular hashtags, directly contributing to model accuracy.\n",
        "Better Contextual Understanding: Social media text is often short and context-dependent. By handling informal language more cohesively and immediately enriching tokens with linguistic annotations (even if noisy), spaCy helps the sentiment model better understand the overall meaning and nuances, leading to more accurate sentiment predictions compared to a system that simply breaks everything into disconnected words.\n",
        "Reduced Manual Preprocessing: A more robust library reduces the amount of manual cleaning and regex writing needed to handle common social media quirks, accelerating development and deployment of sentiment analysis systems.\n",
        "\n",
        "---"
      ]
    },
    {
      "cell_type": "markdown",
      "metadata": {
        "id": "tkfnnYyweV9_"
      },
      "source": [
        "## 🛑 Part 4: Stop Words Removal\n",
        "\n",
        "### What are Stop Words?\n",
        "Stop words are common words that appear frequently in a language but typically don't carry much meaningful information about the content. Examples include \"the\", \"is\", \"at\", \"which\", \"on\", etc.\n",
        "\n",
        "### Why Remove Stop Words?\n",
        "1. **Reduce noise** in the data\n",
        "2. **Improve efficiency** by reducing vocabulary size\n",
        "3. **Focus on content words** that carry semantic meaning\n",
        "\n",
        "### When NOT to Remove Stop Words?\n",
        "- **Sentiment analysis:** \"not good\" vs \"good\" - the \"not\" is crucial!\n",
        "- **Question answering:** \"What is the capital?\" - \"what\" and \"is\" provide context"
      ]
    },
    {
      "cell_type": "code",
      "execution_count": 7,
      "metadata": {
        "id": "uWwuapZ0eV9_",
        "colab": {
          "base_uri": "https://localhost:8080/"
        },
        "outputId": "3aa98534-e79c-456c-cb64-149ea1a3c015"
      },
      "outputs": [
        {
          "output_type": "stream",
          "name": "stdout",
          "text": [
            "📊 NLTK has 198 English stop words\n",
            "First 20: ['a', 'about', 'above', 'after', 'again', 'against', 'ain', 'all', 'am', 'an', 'and', 'any', 'are', 'aren', \"aren't\", 'as', 'at', 'be', 'because', 'been']\n",
            "\n",
            "📊 spaCy has 326 English stop words\n",
            "First 20: [\"'d\", \"'ll\", \"'m\", \"'re\", \"'s\", \"'ve\", 'a', 'about', 'above', 'across', 'after', 'afterwards', 'again', 'against', 'all', 'almost', 'alone', 'along', 'already', 'also']\n",
            "\n",
            "🔍 Comparison:\n",
            "Common stop words: 123\n",
            "Only in NLTK: 75 - Examples: ['ain', 'aren', \"aren't\", 'couldn', \"couldn't\"]\n",
            "Only in spaCy: 203 - Examples: [\"'d\", \"'ll\", \"'m\", \"'re\", \"'s\"]\n"
          ]
        }
      ],
      "source": [
        "# Step 7: Explore Stop Words Lists\n",
        "from nltk.corpus import stopwords\n",
        "\n",
        "# Get NLTK English stop words\n",
        "nltk_stopwords = set(stopwords.words('english'))\n",
        "print(f\"📊 NLTK has {len(nltk_stopwords)} English stop words\")\n",
        "print(f\"First 20: {sorted(list(nltk_stopwords))[:20]}\")\n",
        "\n",
        "# Get spaCy stop words\n",
        "spacy_stopwords = nlp.Defaults.stop_words\n",
        "print(f\"\\n📊 spaCy has {len(spacy_stopwords)} English stop words\")\n",
        "print(f\"First 20: {sorted(list(spacy_stopwords))[:20]}\")\n",
        "\n",
        "# Compare the lists\n",
        "common_stopwords = nltk_stopwords.intersection(spacy_stopwords)\n",
        "nltk_only = nltk_stopwords - spacy_stopwords\n",
        "spacy_only = spacy_stopwords - nltk_stopwords\n",
        "\n",
        "print(f\"\\n🔍 Comparison:\")\n",
        "print(f\"Common stop words: {len(common_stopwords)}\")\n",
        "print(f\"Only in NLTK: {len(nltk_only)} - Examples: {sorted(list(nltk_only))[:5]}\")\n",
        "print(f\"Only in spaCy: {len(spacy_only)} - Examples: {sorted(list(spacy_only))[:5]}\")"
      ]
    },
    {
      "cell_type": "markdown",
      "metadata": {
        "id": "_4rQc88leV9_"
      },
      "source": [
        "### 🤔 Conceptual Question 7\n",
        "**Why do you think NLTK and spaCy have different stop word lists? Look at the examples of words that are only in one list - do you agree with these choices? Can you think of scenarios where these differences might significantly impact your NLP results?**\n",
        "\n",
        "*Double-click this cell to write your answer:*\n",
        "\n",
        "**Reasons for differences:** The differences in NLTK and spaCy's stop word lists stem from their distinct design philosophies and how they've been curated:\n",
        "\n",
        "Development Philosophy & Curation:\n",
        "NLTK (Natural Language Toolkit): Often seen as a more academic and research-oriented library, NLTK's stop word list might be more historically curated or based on earlier research on common English words. It's often more basic and general-purpose.\n",
        "spaCy: Designed for production-ready applications and efficiency, spaCy's stop word list is likely more modern, possibly data-driven, and optimized for performance in its integrated NLP pipeline. It might reflect common contemporary usage patterns and considerations for its various components (like dependency parsing or NER).\n",
        "Target Use Cases:\n",
        "NLTK offers a broad set of tools, and its stop word list aims for general applicability.\n",
        "spaCy's stop words are likely chosen to optimize its deep learning-backed models for tasks like dependency parsing and named entity recognition, where very common words might be less informative for establishing semantic relationships.\n",
        "Emphasis on Linguistic Detail: spaCy's pipeline offers richer linguistic annotations. Its designers might have considered which words genuinely carry little semantic weight once POS tagging, dependency parsing, etc., are performed, leading to a slightly different selection.\n",
        "\n",
        "**Agreement with choices:** Generally, I tend to lean towards spaCy's more conservative stop word lists for many real-world applications, especially those involving deep learning. The rationale is that removing too many words can sometimes strip away valuable context.\n",
        "\n",
        "Words often in NLTK but not spaCy (or vice-versa, depending on version):\n",
        "NLTK might include words like \"really\", \"very\", \"would\", \"should\", \"could\" more readily.\n",
        "spaCy might exclude these, considering that \"really\" or \"very\" can significantly impact the intensity of sentiment, and modals like \"would\" are crucial for understanding intent or conditional statements.\n",
        "Agreement: I generally agree with spaCy's choices if it means keeping words that can subtly influence meaning. For instance, removing \"very\" from \"This is very good\" would lose the intensifier. Similarly, removing \"would\" from \"I would like to go\" changes the nuance from a request to a direct statement. While these are common, they are not always devoid of meaning.\n",
        "\n",
        "**Scenarios where differences matter:** Sentiment Analysis:\n",
        "Impact: If NLTK's list removes intensifiers like \"very\" or \"really,\" a sentiment analysis model might misjudge the strength of emotion. \"This movie was good\" and \"This movie was very good\" could end up with similar scores, reducing granularity.\n",
        "Topic Modeling (e.g., Latent Dirichlet Allocation - LDA):\n",
        "Impact: Stop words are crucial for topic modeling to focus on meaningful keywords. If a library's list is too aggressive and removes words that, in a specific domain, differentiate sub-topics (e.g., if \"review\" or \"product\" were stop words in a product review dataset), it could lead to less coherent or less distinct topics. Conversely, if too few words are removed, common words might dominate topics.\n",
        "Information Retrieval and Keyword Search:\n",
        "Impact: In a search engine, if a phrase like \"should I buy\" is part of a query, and \"should\" is a stop word, the intent of the query might be lost or misinterpreted, leading to irrelevant search results. Users often include \"stop words\" in their natural language queries to convey specific meaning.\n",
        "Chatbots and Intent Recognition:\n",
        "Impact: For a chatbot, understanding subtle differences in user intent is paramount. If words like \"can,\" \"could,\" or \"would\" are aggressively removed, the chatbot might struggle to distinguish between a polite request (\"Could you help me?\") and a direct command (\"Help me!\"), leading to inappropriate responses.\n",
        "Named Entity Recognition (NER) and Relation Extraction:\n",
        "Impact: While less direct, certain stop words can be crucial connecting elements in sentences that define relationships. For instance, prepositions are often stop words, but they are vital for understanding spatial or causal relationships between entities (e.g., \"Paris in France\"). Over-aggressive stop word removal could break these important relational cues.\n",
        "In summary, while stop word removal is a standard preprocessing step, the specific list chosen can have significant consequences depending on the NLP task and the nuances of the text data. A \"one-size-fits-all\" list rarely exists for optimal performance across all applications.\n",
        "\n",
        "---"
      ]
    },
    {
      "cell_type": "code",
      "execution_count": 8,
      "metadata": {
        "id": "GrGWsVMReV9_",
        "colab": {
          "base_uri": "https://localhost:8080/"
        },
        "outputId": "61380ec8-6b55-48cb-896a-1fe72ec8c92c"
      },
      "outputs": [
        {
          "output_type": "stream",
          "name": "stdout",
          "text": [
            "🧪 NLTK Stop Word Removal\n",
            "========================================\n",
            "Original: Natural Language Processing is a fascinating field of AI. It's amazing!\n",
            "\n",
            "Original tokens (14): ['Natural', 'Language', 'Processing', 'is', 'a', 'fascinating', 'field', 'of', 'AI', '.', 'It', \"'s\", 'amazing', '!']\n",
            "After removing stop words (10): ['Natural', 'Language', 'Processing', 'fascinating', 'field', 'AI', '.', \"'s\", 'amazing', '!']\n",
            "\n",
            "Removed words: ['is', 'a', 'of', 'It']\n",
            "Vocabulary reduction: 28.6%\n"
          ]
        }
      ],
      "source": [
        "# Step 8: Remove Stop Words with NLTK\n",
        "# Test on simple text\n",
        "original_tokens = nltk_tokens  # From earlier tokenization\n",
        "filtered_tokens = [word for word in original_tokens if word.lower() not in nltk_stopwords]\n",
        "\n",
        "print(\"🧪 NLTK Stop Word Removal\")\n",
        "print(\"=\" * 40)\n",
        "print(f\"Original: {simple_text}\")\n",
        "print(f\"\\nOriginal tokens ({len(original_tokens)}): {original_tokens}\")\n",
        "print(f\"After removing stop words ({len(filtered_tokens)}): {filtered_tokens}\")\n",
        "\n",
        "# Show which words were removed\n",
        "removed_words = [word for word in original_tokens if word.lower() in nltk_stopwords]\n",
        "print(f\"\\nRemoved words: {removed_words}\")\n",
        "\n",
        "# Calculate reduction percentage\n",
        "reduction = (len(original_tokens) - len(filtered_tokens)) / len(original_tokens) * 100\n",
        "print(f\"Vocabulary reduction: {reduction:.1f}%\")"
      ]
    },
    {
      "cell_type": "code",
      "execution_count": 9,
      "metadata": {
        "id": "lVuS0D-GeV9_",
        "colab": {
          "base_uri": "https://localhost:8080/"
        },
        "outputId": "8aaf674f-823d-4d63-e8ea-e332a1e7bac4"
      },
      "outputs": [
        {
          "output_type": "stream",
          "name": "stdout",
          "text": [
            "🧪 spaCy Stop Word Removal\n",
            "========================================\n",
            "Original: Natural Language Processing is a fascinating field of AI. It's amazing!\n",
            "\n",
            "Original tokens (14): ['Natural', 'Language', 'Processing', 'is', 'a', 'fascinating', 'field', 'of', 'AI', '.', 'It', \"'s\", 'amazing', '!']\n",
            "After removing stop words & punctuation (7): ['Natural', 'Language', 'Processing', 'fascinating', 'field', 'AI', 'amazing']\n",
            "\n",
            "Removed words: ['is', 'a', 'of', '.', 'It', \"'s\", '!']\n",
            "Vocabulary reduction: 50.0%\n"
          ]
        }
      ],
      "source": [
        "# Step 9: Remove Stop Words with spaCy\n",
        "doc = nlp(simple_text)\n",
        "spacy_filtered = [token.text for token in doc if not token.is_stop and not token.is_punct]\n",
        "\n",
        "print(\"🧪 spaCy Stop Word Removal\")\n",
        "print(\"=\" * 40)\n",
        "print(f\"Original: {simple_text}\")\n",
        "print(f\"\\nOriginal tokens ({len(spacy_tokens)}): {spacy_tokens}\")\n",
        "print(f\"After removing stop words & punctuation ({len(spacy_filtered)}): {spacy_filtered}\")\n",
        "\n",
        "# Show which words were removed\n",
        "spacy_removed = [token.text for token in doc if token.is_stop or token.is_punct]\n",
        "print(f\"\\nRemoved words: {spacy_removed}\")\n",
        "\n",
        "# Calculate reduction percentage\n",
        "spacy_reduction = (len(spacy_tokens) - len(spacy_filtered)) / len(spacy_tokens) * 100\n",
        "print(f\"Vocabulary reduction: {spacy_reduction:.1f}%\")"
      ]
    },
    {
      "cell_type": "markdown",
      "metadata": {
        "id": "VoVxWinyeV-A"
      },
      "source": [
        "### 🤔 Conceptual Question 8\n",
        "**Compare the NLTK and spaCy stop word removal results. Which approach removed more words? Do you think removing punctuation (as spaCy did) is always a good idea? Give a specific example where keeping punctuation might be important for NLP analysis.**\n",
        "\n",
        "*Double-click this cell to write your answer:*\n",
        "\n",
        "**Which removed more:** Based on typical default configurations, NLTK's default stop word list often removes slightly more words than spaCy's. spaCy tends to have a more conservative stop word list, often retaining words that, while common, might still carry subtle semantic or grammatical information useful for its deeper linguistic models.\n",
        "\n",
        "**Punctuation removal assessment:** No, removing punctuation (as spaCy often does implicitly when performing tasks after tokenization, or when you explicitly filter it out during preprocessing) is not always a good idea. While punctuation often doesn't convey direct lexical meaning and can be treated as noise for some tasks (like simple word counting or basic topic modeling), it plays crucial roles in language.\n",
        "\n",
        "**Example where punctuation matters:** A specific example where keeping punctuation is important for NLP analysis is sentiment analysis, especially when dealing with sarcasm, irony, or strong emotion.\n",
        "\n",
        "Consider the phrases:\n",
        "\n",
        "\"That's great.\"\n",
        "\"That's great!\"\n",
        "\"That's great...\"\n",
        "\"That's great?!\"\n",
        "\"That's great.\"\n",
        "If all punctuation is removed, these would all be reduced to \"That's great\". However:\n",
        "\n",
        "\"That's great!\" often indicates genuine positive sentiment or excitement.\n",
        "\"That's great...\" might imply sarcasm, disappointment, or trailing off thought.\n",
        "\"That's great?!\" could convey disbelief, indignation, or a question with strong negative undertones.\n",
        "\"That's great.\" (with asterisks or quotes often signaling emphasis/irony in informal text) explicitly marks sarcasm.\n",
        "In these cases, the punctuation (exclamation marks, ellipses, question marks, even asterisks or quotes used to highlight words) directly modifies the sentiment or the speaker's intent. Removing it would lead to a significant loss of information, resulting in inaccurate sentiment classification. Similarly, in formal text, commas, semicolons, and periods are vital for correctly parsing sentence structure and understanding logical relationships, which is critical for tasks like information extraction and dependency parsing.\n",
        "\n",
        "---"
      ]
    },
    {
      "cell_type": "markdown",
      "metadata": {
        "id": "KUnesyUoeV-A"
      },
      "source": [
        "## 🌱 Part 5: Lemmatization and Stemming\n",
        "\n",
        "### What is Lemmatization?\n",
        "Lemmatization reduces words to their base or dictionary form (called a **lemma**). It considers context and part of speech to ensure the result is a valid word.\n",
        "\n",
        "### What is Stemming?\n",
        "Stemming reduces words to their root form by removing suffixes. It's faster but less accurate than lemmatization.\n",
        "\n",
        "### Key Differences:\n",
        "| Aspect | Stemming | Lemmatization |\n",
        "|--------|----------|---------------|\n",
        "| Speed | Fast | Slower |\n",
        "| Accuracy | Lower | Higher |\n",
        "| Output | May be non-words | Always valid words |\n",
        "| Context | Ignores context | Considers context |\n",
        "\n",
        "### Examples:\n",
        "- **\"running\"** → Stem: \"run\", Lemma: \"run\"\n",
        "- **\"better\"** → Stem: \"better\", Lemma: \"good\"\n",
        "- **\"was\"** → Stem: \"wa\", Lemma: \"be\""
      ]
    },
    {
      "cell_type": "code",
      "execution_count": 10,
      "metadata": {
        "id": "RhQlU7wGeV-A",
        "colab": {
          "base_uri": "https://localhost:8080/"
        },
        "outputId": "dbfbafac-e3d8-4df8-8775-bd8027138ec2"
      },
      "outputs": [
        {
          "output_type": "stream",
          "name": "stdout",
          "text": [
            "🌿 Stemming Demonstration\n",
            "==============================\n",
            "Original     Stemmed     \n",
            "-------------------------\n",
            "running      run         \n",
            "runs         run         \n",
            "ran          ran         \n",
            "better       better      \n",
            "good         good        \n",
            "best         best        \n",
            "flying       fli         \n",
            "flies        fli         \n",
            "was          wa          \n",
            "were         were        \n",
            "cats         cat         \n",
            "dogs         dog         \n",
            "\n",
            "🧪 Applied to sample text:\n",
            "Original: ['Natural', 'Language', 'Processing', 'is', 'a', 'fascinating', 'field', 'of', 'AI', 'It', 'amazing']\n",
            "Stemmed: ['natur', 'languag', 'process', 'is', 'a', 'fascin', 'field', 'of', 'ai', 'it', 'amaz']\n"
          ]
        }
      ],
      "source": [
        "# Step 10: Stemming with NLTK\n",
        "from nltk.stem import PorterStemmer\n",
        "\n",
        "stemmer = PorterStemmer()\n",
        "\n",
        "# Test words that demonstrate stemming challenges\n",
        "test_words = ['running', 'runs', 'ran', 'better', 'good', 'best', 'flying', 'flies', 'was', 'were', 'cats', 'dogs']\n",
        "\n",
        "print(\"🌿 Stemming Demonstration\")\n",
        "print(\"=\" * 30)\n",
        "print(f\"{'Original':<12} {'Stemmed':<12}\")\n",
        "print(\"-\" * 25)\n",
        "\n",
        "for word in test_words:\n",
        "    stemmed = stemmer.stem(word)\n",
        "    print(f\"{word:<12} {stemmed:<12}\")\n",
        "\n",
        "# Apply to our sample text\n",
        "sample_tokens = [token for token in nltk_tokens if token.isalpha()]\n",
        "stemmed_tokens = [stemmer.stem(token.lower()) for token in sample_tokens]\n",
        "\n",
        "print(f\"\\n🧪 Applied to sample text:\")\n",
        "print(f\"Original: {sample_tokens}\")\n",
        "print(f\"Stemmed: {stemmed_tokens}\")"
      ]
    },
    {
      "cell_type": "markdown",
      "metadata": {
        "id": "1diItfT8eV-A"
      },
      "source": [
        "### 🤔 Conceptual Question 9\n",
        "**Look at the stemming results above. Can you identify any cases where stemming produced questionable results? For example, how were \"better\" and \"good\" handled? Do you think this is problematic for NLP applications? Explain your reasoning.**\n",
        "\n",
        "*Double-click this cell to write your answer:*\n",
        "\n",
        "**Questionable results identified:** The most significant questionable result of stemming is its failure to handle irregular word forms and semantic relationships. A rule-based stemmer will typically not reduce words like \"better\" to their base form \"good.\" It might stem \"better\" to \"bett\" or leave it as \"better,\" while \"good\" remains \"good.\"\n",
        "\n",
        "**Assessment of \"better\" and \"good\":** This is problematic because, while semantically \"better\" is the comparative form of \"good,\" a stemmer treats them as entirely unrelated words. It only chops suffixes based on linguistic rules, not on the word's dictionary form or meaning.\n",
        "\n",
        "**Impact on NLP applications:** This behavior is highly problematic for many NLP applications because it leads to a loss of valuable semantic information:\n",
        "\n",
        "Information Retrieval/Search: A search for \"good\" content might miss documents containing \"better\" due to different stemmed forms, reducing recall.\n",
        "Sentiment Analysis: Both \"good\" and \"better\" convey positive sentiment, with \"better\" often indicating a stronger degree. If they are stemmed to different roots, a sentiment model might fail to recognize their shared positivity or the intensity conveyed by \"better,\" leading to less accurate or granular sentiment scores.\n",
        "Topic Modeling/Text Classification: When building models to understand topics or categorize documents, treating semantically related words like \"good\" and \"better\" as distinct features can dilute the signal for a concept (e.g., \"quality\"). The model won't effectively group all mentions of \"positive quality\" under one generalized term.\n",
        "In essence, stemming's aggressive, rule-based approach can destroy crucial semantic links between words, making it less suitable for applications that require a deeper understanding of language meaning. This is why lemmatization is often preferred over stemming for tasks where preserving the true base form and semantic relationships of words is critical.\n",
        "\n",
        "---"
      ]
    },
    {
      "cell_type": "code",
      "execution_count": 11,
      "metadata": {
        "id": "VYhyO8jfeV-A",
        "colab": {
          "base_uri": "https://localhost:8080/"
        },
        "outputId": "20ef10a2-79aa-4d99-a446-64da354bfd28"
      },
      "outputs": [
        {
          "output_type": "stream",
          "name": "stdout",
          "text": [
            "🌱 spaCy Lemmatization Demonstration\n",
            "========================================\n",
            "Original: The researchers were studying the effects of running and swimming on better performance.\n",
            "\n",
            "Token           Lemma           POS        Explanation         \n",
            "-----------------------------------------------------------------\n",
            "The             the             DET        No change           \n",
            "researchers     researcher      NOUN       Lemmatized          \n",
            "were            be              AUX        Lemmatized          \n",
            "studying        study           VERB       Lemmatized          \n",
            "the             the             DET        No change           \n",
            "effects         effect          NOUN       Lemmatized          \n",
            "of              of              ADP        No change           \n",
            "running         run             VERB       Lemmatized          \n",
            "and             and             CCONJ      No change           \n",
            "swimming        swim            VERB       Lemmatized          \n",
            "on              on              ADP        No change           \n",
            "better          well            ADJ        Lemmatized          \n",
            "performance     performance     NOUN       No change           \n",
            "\n",
            "🔤 Lemmatized tokens (no stop words): ['researcher', 'study', 'effect', 'run', 'swim', 'well', 'performance']\n"
          ]
        }
      ],
      "source": [
        "# Step 11: Lemmatization with spaCy\n",
        "print(\"🌱 spaCy Lemmatization Demonstration\")\n",
        "print(\"=\" * 40)\n",
        "\n",
        "# Test on a complex sentence\n",
        "complex_sentence = \"The researchers were studying the effects of running and swimming on better performance.\"\n",
        "doc = nlp(complex_sentence)\n",
        "\n",
        "print(f\"Original: {complex_sentence}\")\n",
        "print(f\"\\n{'Token':<15} {'Lemma':<15} {'POS':<10} {'Explanation':<20}\")\n",
        "print(\"-\" * 65)\n",
        "\n",
        "for token in doc:\n",
        "    if token.is_alpha:\n",
        "        explanation = \"No change\" if token.text.lower() == token.lemma_ else \"Lemmatized\"\n",
        "        print(f\"{token.text:<15} {token.lemma_:<15} {token.pos_:<10} {explanation:<20}\")\n",
        "\n",
        "# Extract lemmas\n",
        "lemmas = [token.lemma_.lower() for token in doc if token.is_alpha and not token.is_stop]\n",
        "print(f\"\\n🔤 Lemmatized tokens (no stop words): {lemmas}\")"
      ]
    },
    {
      "cell_type": "code",
      "execution_count": 12,
      "metadata": {
        "id": "tsCdhYHWeV-A",
        "colab": {
          "base_uri": "https://localhost:8080/"
        },
        "outputId": "8086f1d3-7514-4a4d-c7ef-f88c59e69019"
      },
      "outputs": [
        {
          "output_type": "stream",
          "name": "stdout",
          "text": [
            "⚖️ Stemming vs Lemmatization Comparison\n",
            "==================================================\n",
            "Original     Stemmed      Lemmatized  \n",
            "----------------------------------------\n",
            "better       better       well        \n",
            "running      run          run         \n",
            "studies      studi        study       \n",
            "was          wa           be          \n",
            "children     children     child       \n",
            "feet         feet         foot        \n"
          ]
        }
      ],
      "source": [
        "# Step 12: Compare Stemming vs Lemmatization\n",
        "comparison_words = ['better', 'running', 'studies', 'was', 'children', 'feet']\n",
        "\n",
        "print(\"⚖️ Stemming vs Lemmatization Comparison\")\n",
        "print(\"=\" * 50)\n",
        "print(f\"{'Original':<12} {'Stemmed':<12} {'Lemmatized':<12}\")\n",
        "print(\"-\" * 40)\n",
        "\n",
        "for word in comparison_words:\n",
        "    # Stemming\n",
        "    stemmed = stemmer.stem(word)\n",
        "\n",
        "    # Lemmatization with spaCy\n",
        "    doc = nlp(word)\n",
        "    lemmatized = doc[0].lemma_\n",
        "\n",
        "    print(f\"{word:<12} {stemmed:<12} {lemmatized:<12}\")"
      ]
    },
    {
      "cell_type": "markdown",
      "metadata": {
        "id": "jvNf3d6PeV-A"
      },
      "source": [
        "### 🤔 Conceptual Question 10\n",
        "**Compare the stemming and lemmatization results. Which approach do you think is more suitable for:**\n",
        "1. **A search engine** (where speed is crucial and you need to match variations of words)?\n",
        "2. **A sentiment analysis system** (where accuracy and meaning preservation are important)?\n",
        "3. **A real-time chatbot** (where both speed and accuracy matter)?\n",
        "\n",
        "**Explain your reasoning for each choice.**\n",
        "\n",
        "*Double-click this cell to write your answer:*\n",
        "\n",
        "**1. Search engine:** Stemming\n",
        "\n",
        "Reasoning: For search engines, speed is crucial, and the primary goal is to match variations of words quickly to retrieve relevant documents. Stemming, being a faster, rule-based process, can rapidly reduce words to a common (though not always linguistically correct) root. While it might produce non-dictionary words (e.g., \"beautiful\" to \"beauti\"), for high-volume indexing and querying, this speed advantage often outweighs the slight loss in linguistic precision. Users often search for keywords, and getting \"runs,\" \"ran,\" and \"running\" to match \"run\" is more important than perfect linguistic accuracy, especially given the sheer scale of data.\n",
        "\n",
        "\n",
        "**2. Sentiment analysis:** Lemmatization\n",
        "\n",
        "Reasoning: Sentiment analysis heavily relies on accuracy and meaning preservation. The precise meaning and connotation of words are paramount. Lemmatization reduces words to their true dictionary base form (lemma), correctly handling irregular forms (e.g., \"better\" to \"good\"). This preserves the semantic integrity of words, ensuring that a sentiment model accurately interprets emotional nuances and degrees of positivity or negativity. Stemming, by contrast, can destroy these subtle distinctions by creating non-existent or misleading roots (e.g., \"better\" to \"bett\"), leading to less accurate sentiment scores.\n",
        "\n",
        "**3. Real-time chatbot:** Lemmatization\n",
        "\n",
        "Reasoning: A real-time chatbot requires a balance of both speed and accuracy. While speed is necessary for responsive interactions, accuracy in understanding user intent and meaning is critical for a good user experience. Lemmatization, though slightly slower than stemming, provides a much more linguistically sound and accurate reduction of words. This precision is vital for the chatbot to correctly identify user queries, extract entities, and generate appropriate, contextually relevant responses. Modern NLP libraries (like spaCy) have highly optimized lemmatizers that are fast enough for most real-time applications, making the accuracy gain from lemmatization well worth any minor speed trade-off.\n",
        "\n",
        "\n",
        "\n",
        "\n",
        "---"
      ]
    },
    {
      "cell_type": "markdown",
      "metadata": {
        "id": "tep2Tdm4eV-A"
      },
      "source": [
        "## 🧹 Part 6: Text Cleaning and Normalization\n",
        "\n",
        "### What is Text Cleaning?\n",
        "Text cleaning involves removing or standardizing elements that might interfere with analysis:\n",
        "- **Case normalization** (converting to lowercase)\n",
        "- **Punctuation removal**\n",
        "- **Number handling** (remove, replace, or normalize)\n",
        "- **Special character handling** (URLs, emails, mentions)\n",
        "- **Whitespace normalization**\n",
        "\n",
        "### Why is it Important?\n",
        "- Ensures consistency across your dataset\n",
        "- Reduces vocabulary size\n",
        "- Improves model performance\n",
        "- Handles edge cases in real-world data"
      ]
    },
    {
      "cell_type": "code",
      "execution_count": 13,
      "metadata": {
        "id": "lmo2dAXkeV-A",
        "colab": {
          "base_uri": "https://localhost:8080/"
        },
        "outputId": "c5f4177b-be78-4bbc-c126-18937d5acdca"
      },
      "outputs": [
        {
          "output_type": "stream",
          "name": "stdout",
          "text": [
            "🧹 Basic Text Cleaning\n",
            "==============================\n",
            "Original: '   Hello WORLD!!! This has 123 numbers and   extra spaces.   '\n",
            "Cleaned: 'hello world this has numbers and extra spaces'\n",
            "Length reduction: 26.2%\n"
          ]
        }
      ],
      "source": [
        "# Step 13: Basic Text Cleaning\n",
        "def basic_clean_text(text):\n",
        "    \"\"\"Apply basic text cleaning operations\"\"\"\n",
        "    # Convert to lowercase\n",
        "    text = text.lower()\n",
        "\n",
        "    # Remove extra whitespace\n",
        "    text = re.sub(r'\\s+', ' ', text).strip()\n",
        "\n",
        "    # Remove punctuation\n",
        "    text = text.translate(str.maketrans('', '', string.punctuation))\n",
        "\n",
        "    # Remove numbers\n",
        "    text = re.sub(r'\\d+', '', text)\n",
        "\n",
        "    # Remove extra spaces again\n",
        "    text = re.sub(r'\\s+', ' ', text).strip()\n",
        "\n",
        "    return text\n",
        "\n",
        "# Test basic cleaning\n",
        "test_text = \"   Hello WORLD!!! This has 123 numbers and   extra spaces.   \"\n",
        "cleaned = basic_clean_text(test_text)\n",
        "\n",
        "print(\"🧹 Basic Text Cleaning\")\n",
        "print(\"=\" * 30)\n",
        "print(f\"Original: '{test_text}'\")\n",
        "print(f\"Cleaned: '{cleaned}'\")\n",
        "print(f\"Length reduction: {(len(test_text) - len(cleaned))/len(test_text)*100:.1f}%\")"
      ]
    },
    {
      "cell_type": "code",
      "execution_count": 14,
      "metadata": {
        "id": "FxHKo_2ceV-A",
        "colab": {
          "base_uri": "https://localhost:8080/"
        },
        "outputId": "8e008770-ba2d-4131-c0fd-26de8f55e17e"
      },
      "outputs": [
        {
          "output_type": "stream",
          "name": "stdout",
          "text": [
            "🚀 Advanced Cleaning on Social Media Text\n",
            "=============================================\n",
            "Original: OMG! Just tried the new coffee shop ☕️ SO GOOD!!! Highly recommend 👍 #coffee #yum 😍\n",
            "Cleaned: omg! just tried the new coffee shop ☕️ so good!!! highly recommend coffee yum\n",
            "Length reduction: 7.2%\n"
          ]
        }
      ],
      "source": [
        "# Step 14: Advanced Cleaning for Social Media\n",
        "def advanced_clean_text(text):\n",
        "    \"\"\"Apply advanced cleaning for social media and web text\"\"\"\n",
        "    # Remove URLs\n",
        "    text = re.sub(r'http\\S+|www\\S+|https\\S+', '', text, flags=re.MULTILINE)\n",
        "\n",
        "    # Remove email addresses\n",
        "    text = re.sub(r'\\S+@\\S+', '', text)\n",
        "\n",
        "    # Remove mentions (@username)\n",
        "    text = re.sub(r'@\\w+', '', text)\n",
        "\n",
        "    # Convert hashtags (keep the word, remove #)\n",
        "    text = re.sub(r'#(\\w+)', r'\\1', text)\n",
        "\n",
        "    # Remove emojis (basic approach)\n",
        "    emoji_pattern = re.compile(\"[\"\n",
        "                               u\"\\U0001F600-\\U0001F64F\"  # emoticons\n",
        "                               u\"\\U0001F300-\\U0001F5FF\"  # symbols & pictographs\n",
        "                               u\"\\U0001F680-\\U0001F6FF\"  # transport & map symbols\n",
        "                               u\"\\U0001F1E0-\\U0001F1FF\"  # flags\n",
        "                               \"]+\", flags=re.UNICODE)\n",
        "    text = emoji_pattern.sub(r'', text)\n",
        "\n",
        "    # Convert to lowercase and normalize whitespace\n",
        "    text = text.lower()\n",
        "    text = re.sub(r'\\s+', ' ', text).strip()\n",
        "\n",
        "    return text\n",
        "\n",
        "# Test on social media text\n",
        "print(\"🚀 Advanced Cleaning on Social Media Text\")\n",
        "print(\"=\" * 45)\n",
        "print(f\"Original: {social_text}\")\n",
        "\n",
        "cleaned_social = advanced_clean_text(social_text)\n",
        "print(f\"Cleaned: {cleaned_social}\")\n",
        "print(f\"Length reduction: {(len(social_text) - len(cleaned_social))/len(social_text)*100:.1f}%\")"
      ]
    },
    {
      "cell_type": "markdown",
      "metadata": {
        "id": "vwtcrJMVeV-A"
      },
      "source": [
        "### 🤔 Conceptual Question 11\n",
        "**Look at the advanced cleaning results for the social media text. What information was lost during cleaning? Can you think of scenarios where removing emojis and hashtags might actually hurt your NLP application? What about scenarios where keeping them would be beneficial?**\n",
        "\n",
        "*Double-click this cell to write your answer:*\n",
        "\n",
        "**Information lost:** When emojis and hashtags are removed during cleaning, crucial information is lost, including:\n",
        "\n",
        "Sentiment/Emotion: Emojis are direct, often unambiguous, indicators of emotion (e.g., joy, anger, sadness).\n",
        "Topic/Keywords: Hashtags explicitly label topics, trends, or communities.\n",
        "Emphasis/Nuance: Emojis can add emphasis or subtly alter the meaning of a statement (e.g., indicating sarcasm or humor).\n",
        "Context/Informality: The presence of emojis and hashtags provides context about the informal nature of social media communication.\n",
        "\n",
        "**Scenarios where removal hurts:** Removing emojis and hashtags can significantly damage the performance of NLP applications that rely on understanding sentiment, topic, or informal communication:\n",
        "\n",
        "Sentiment Analysis: Without emojis (e.g., \"😂\", \"❤️\", \"😡\") and sentiment-laden hashtags (e.g., \"#bestdayever\"), accurately determining the emotional tone of a social media post becomes much harder, especially with short or ambiguous text. Sarcasm, in particular, is often clarified by specific emojis.\n",
        "Trend/Topic Detection: Hashtags are direct signals for what's currently trending or being discussed. Removing them makes it difficult to identify emerging topics, track campaigns, or understand public discourse on specific subjects.\n",
        "\n",
        "**Scenarios where keeping helps:** Conversely, retaining emojis and hashtags can be highly beneficial for NLP applications that need a deeper, more nuanced understanding of social media content:\n",
        "\n",
        "Enhanced Sentiment Analysis: Directly leveraging emojis and hashtags allows models to achieve higher accuracy in sentiment prediction, especially for informal or highly emotive text.\n",
        "Precise Topic Modeling/Content Categorization: Hashtags provide explicit, human-curated labels for content, which can significantly improve the quality and interpretability of topic models or aid in content categorization.\n",
        "User Profiling/Behavioral Analysis: Analyzing emoji and hashtag usage patterns can offer insights into user demographics, interests, and online behavior.\n",
        "Irony/Sarcasm Detection: Certain emojis act as strong indicators of irony or sarcasm, which are otherwise challenging for NLP models to detect.\n",
        "\n",
        "---"
      ]
    },
    {
      "cell_type": "markdown",
      "metadata": {
        "id": "BpzKWVy3eV-A"
      },
      "source": [
        "## 🔧 Part 7: Building a Complete Preprocessing Pipeline\n",
        "\n",
        "Now let's combine everything into a comprehensive preprocessing pipeline that you can customize based on your needs.\n",
        "\n",
        "### Pipeline Components:\n",
        "1. **Text cleaning** (basic or advanced)\n",
        "2. **Tokenization** (NLTK or spaCy)\n",
        "3. **Stop word removal** (optional)\n",
        "4. **Lemmatization/Stemming** (optional)\n",
        "5. **Additional filtering** (length, etc.)"
      ]
    },
    {
      "cell_type": "code",
      "execution_count": 15,
      "metadata": {
        "id": "6XxqZCHneV-A",
        "colab": {
          "base_uri": "https://localhost:8080/"
        },
        "outputId": "c0be2a7b-502c-4eda-db4d-324cfad84ff3"
      },
      "outputs": [
        {
          "output_type": "stream",
          "name": "stdout",
          "text": [
            "🔧 Preprocessing Pipeline Created!\n",
            "✅ Ready to test different configurations.\n"
          ]
        }
      ],
      "source": [
        "# Step 15: Complete Preprocessing Pipeline\n",
        "def preprocess_text(text,\n",
        "                   clean_level='basic',     # 'basic' or 'advanced'\n",
        "                   remove_stopwords=True,\n",
        "                   use_lemmatization=True,\n",
        "                   use_stemming=False,\n",
        "                   min_length=2):\n",
        "    \"\"\"\n",
        "    Complete text preprocessing pipeline\n",
        "    \"\"\"\n",
        "    # Step 1: Clean text\n",
        "    if clean_level == 'basic':\n",
        "        cleaned_text = basic_clean_text(text)\n",
        "    else:\n",
        "        cleaned_text = advanced_clean_text(text)\n",
        "\n",
        "    # Step 2: Tokenize\n",
        "    if use_lemmatization:\n",
        "        # Use spaCy for lemmatization\n",
        "        doc = nlp(cleaned_text)\n",
        "        tokens = [token.lemma_.lower() for token in doc if token.is_alpha]\n",
        "    else:\n",
        "        # Use NLTK for basic tokenization\n",
        "        tokens = word_tokenize(cleaned_text)\n",
        "        tokens = [token for token in tokens if token.isalpha()]\n",
        "\n",
        "    # Step 3: Remove stop words\n",
        "    if remove_stopwords:\n",
        "        if use_lemmatization:\n",
        "            tokens = [token for token in tokens if token not in spacy_stopwords]\n",
        "        else:\n",
        "            tokens = [token.lower() for token in tokens if token.lower() not in nltk_stopwords]\n",
        "\n",
        "    # Step 4: Apply stemming if requested\n",
        "    if use_stemming and not use_lemmatization:\n",
        "        tokens = [stemmer.stem(token.lower()) for token in tokens]\n",
        "\n",
        "    # Step 5: Filter by length\n",
        "    tokens = [token for token in tokens if len(token) >= min_length]\n",
        "\n",
        "    return tokens\n",
        "\n",
        "print(\"🔧 Preprocessing Pipeline Created!\")\n",
        "print(\"✅ Ready to test different configurations.\")"
      ]
    },
    {
      "cell_type": "code",
      "execution_count": 16,
      "metadata": {
        "id": "yYMlNDVceV-A",
        "colab": {
          "base_uri": "https://localhost:8080/"
        },
        "outputId": "4fc70b70-59b1-4365-e080-64cb3aac0455"
      },
      "outputs": [
        {
          "output_type": "stream",
          "name": "stdout",
          "text": [
            "🎯 Testing on: This laptop is absolutely fantastic! I've been using it for 6 months and it's still super fast.\n",
            "The ...\n",
            "============================================================\n",
            "\n",
            "1. Minimal processing (34 tokens):\n",
            "   ['this', 'laptop', 'is', 'absolutely', 'fantastic', 'ive', 'been', 'using', 'it', 'for']...\n",
            "\n",
            "2. Standard processing (18 tokens):\n",
            "   ['laptop', 'absolutely', 'fantastic', 've', 'use', 'month', 'super', 'fast', 'battery', 'life']...\n",
            "\n",
            "3. Aggressive processing (21 tokens):\n",
            "   ['laptop', 'absolut', 'fantast', 'use', 'month', 'still', 'super', 'fast', 'batteri', 'life']...\n",
            "\n",
            "📊 Token Reduction Summary:\n",
            "   Original: 47 tokens\n",
            "   Minimal: 34 (27.7% reduction)\n",
            "   Standard: 18 (61.7% reduction)\n",
            "   Aggressive: 21 (55.3% reduction)\n"
          ]
        }
      ],
      "source": [
        "# Step 16: Test Different Pipeline Configurations\n",
        "test_text = sample_texts[\"Product Review\"]\n",
        "print(f\"🎯 Testing on: {test_text[:100]}...\")\n",
        "print(\"=\" * 60)\n",
        "\n",
        "# Configuration 1: Minimal processing\n",
        "minimal = preprocess_text(test_text,\n",
        "                         clean_level='basic',\n",
        "                         remove_stopwords=False,\n",
        "                         use_lemmatization=False,\n",
        "                         use_stemming=False)\n",
        "print(f\"\\n1. Minimal processing ({len(minimal)} tokens):\")\n",
        "print(f\"   {minimal[:10]}...\")\n",
        "\n",
        "# Configuration 2: Standard processing\n",
        "standard = preprocess_text(test_text,\n",
        "                          clean_level='basic',\n",
        "                          remove_stopwords=True,\n",
        "                          use_lemmatization=True)\n",
        "print(f\"\\n2. Standard processing ({len(standard)} tokens):\")\n",
        "print(f\"   {standard[:10]}...\")\n",
        "\n",
        "# Configuration 3: Aggressive processing\n",
        "aggressive = preprocess_text(test_text,\n",
        "                            clean_level='advanced',\n",
        "                            remove_stopwords=True,\n",
        "                            use_lemmatization=False,\n",
        "                            use_stemming=True,\n",
        "                            min_length=3)\n",
        "print(f\"\\n3. Aggressive processing ({len(aggressive)} tokens):\")\n",
        "print(f\"   {aggressive[:10]}...\")\n",
        "\n",
        "# Show reduction percentages\n",
        "original_count = len(word_tokenize(test_text))\n",
        "print(f\"\\n📊 Token Reduction Summary:\")\n",
        "print(f\"   Original: {original_count} tokens\")\n",
        "print(f\"   Minimal: {len(minimal)} ({(original_count-len(minimal))/original_count*100:.1f}% reduction)\")\n",
        "print(f\"   Standard: {len(standard)} ({(original_count-len(standard))/original_count*100:.1f}% reduction)\")\n",
        "print(f\"   Aggressive: {len(aggressive)} ({(original_count-len(aggressive))/original_count*100:.1f}% reduction)\")"
      ]
    },
    {
      "cell_type": "markdown",
      "metadata": {
        "id": "RBb3LjQZeV-A"
      },
      "source": [
        "### 🤔 Conceptual Question 12\n",
        "**Compare the three pipeline configurations (Minimal, Standard, Aggressive). For each configuration, analyze:**\n",
        "1. **What information was preserved?**\n",
        "2. **What information was lost?**\n",
        "3. **What type of NLP task would this configuration be best suited for?**\n",
        "\n",
        "*Double-click this cell to write your answer:*\n",
        "\n",
        "**Minimal Processing:**\n",
        "- Preserved: Most of the original text's nuances, including exact word forms, capitalization, punctuation, emojis, hashtags, and grammatical structure. Only tokenization is typically applied.\n",
        "- Lost: Very little, primarily just the raw, unstructured string format is transformed into a list of tokens.\n",
        "- Best for: Tasks where the original, granular details of the text are critical. This includes:\n",
        "Syntax analysis and dependency parsing: Relies on exact word forms and punctuation.\n",
        "Named Entity Recognition (NER): Capitalization often signals proper nouns.\n",
        "Sarcasm/Irony Detection: Relies heavily on subtle cues like punctuation and emojis.\n",
        "Exact Phrase Matching: Preserves the literal string.\n",
        "\n",
        "\n",
        "**Standard Processing:**\n",
        "- Preserved: Core semantic meaning of words (via lemmatization), and the majority of content-bearing words. Capitalization is typically removed. While common stop words are removed, less common but potentially meaningful words are kept.\n",
        "- Lost: Original capitalization, common \"stop\" words, and possibly some minor nuance from contractions if split. Punctuation, emojis, and hashtags might be retained as tokens but often not deeply processed for meaning.\n",
        "\n",
        "- Best for: Many general NLP tasks that benefit from normalizing word forms and reducing noise without over-simplifying. This includes:\n",
        "Text Classification: Helps in grouping similar words (e.g., \"run,\" \"running,\" \"ran\" become \"run\").\n",
        "Topic Modeling: Focuses on more significant words to identify underlying themes.\n",
        "Initial Sentiment Analysis: Provides a cleaner dataset for sentiment models.\n",
        "Building a vocabulary for machine learning models.\n",
        "\n",
        "**Aggressive Processing:**\n",
        "- Preserved: The most simplified root form of words (via stemming) and only the absolute core content words.\n",
        "- Lost: All punctuation, capitalization, original word forms (replaced by often non-dictionary stems), emojis, hashtags, and potentially significant semantic nuances due to stemming's over-simplification and removal of common but contextually important words.\n",
        "- Best for: Applications where extreme data reduction and speed are paramount, and a very coarse understanding of text content is sufficient. This includes:\n",
        "Large-scale Information Retrieval (very fast matching): Quickly reduces words to a common root for high-volume searches.\n",
        "Basic Document Clustering: Groups documents purely by their most fundamental word content.\n",
        "Simple Bag-of-Words models: Where only word presence/frequency matters, not linguistic detail.\n",
        "\n",
        "\n",
        "---"
      ]
    },
    {
      "cell_type": "code",
      "execution_count": 17,
      "metadata": {
        "id": "rtgwLN7neV-A",
        "colab": {
          "base_uri": "https://localhost:8080/"
        },
        "outputId": "5c88a432-f7ff-41b5-b08b-c1f7934f5023"
      },
      "outputs": [
        {
          "output_type": "stream",
          "name": "stdout",
          "text": [
            "🔬 Comprehensive Preprocessing Analysis\n",
            "==================================================\n",
            "\n",
            "📄 Simple:\n",
            "   Original: 14 tokens\n",
            "   Processed: 7 tokens (50.0% reduction)\n",
            "   Sample: ['natural', 'language', 'processing', 'fascinating', 'field', 'ai', 'amazing']\n",
            "\n",
            "📄 Academic:\n",
            "   Original: 61 tokens\n",
            "   Processed: 26 tokens (57.4% reduction)\n",
            "   Sample: ['dr', 'smith', 'research', 'machinelearning', 'algorithm', 'groundbreake', 'publish', 'paper']\n",
            "\n",
            "📄 Social Media:\n",
            "   Original: 22 tokens\n",
            "   Processed: 10 tokens (54.5% reduction)\n",
            "   Sample: ['omg', 'try', 'new', 'coffee', 'shop', 'good', 'highly', 'recommend']\n",
            "\n",
            "📄 News:\n",
            "   Original: 51 tokens\n",
            "   Processed: 25 tokens (51.0% reduction)\n",
            "   Sample: ['stock', 'market', 'experience', 'significant', 'volatility', 'today', 'tech', 'stock']\n",
            "\n",
            "📄 Product Review:\n",
            "   Original: 47 tokens\n",
            "   Processed: 18 tokens (61.7% reduction)\n",
            "   Sample: ['laptop', 'absolutely', 'fantastic', 've', 'use', 'month', 'super', 'fast']\n",
            "\n",
            "\n",
            "📋 Summary Table\n",
            "Text Type       Original   Processed  Reduction \n",
            "--------------------------------------------------\n",
            "Simple          14         7          50.0      %\n",
            "Academic        61         26         57.4      %\n",
            "Social Media    22         10         54.5      %\n",
            "News            51         25         51.0      %\n",
            "Product Review  47         18         61.7      %\n"
          ]
        }
      ],
      "source": [
        "# Step 17: Comprehensive Analysis Across Text Types\n",
        "print(\"🔬 Comprehensive Preprocessing Analysis\")\n",
        "print(\"=\" * 50)\n",
        "\n",
        "# Test standard preprocessing on all text types\n",
        "results = {}\n",
        "for name, text in sample_texts.items():\n",
        "    original_tokens = len(word_tokenize(text))\n",
        "    processed_tokens = preprocess_text(text,\n",
        "                                      clean_level='basic',\n",
        "                                      remove_stopwords=True,\n",
        "                                      use_lemmatization=True)\n",
        "\n",
        "    reduction = (original_tokens - len(processed_tokens)) / original_tokens * 100\n",
        "    results[name] = {\n",
        "        'original': original_tokens,\n",
        "        'processed': len(processed_tokens),\n",
        "        'reduction': reduction,\n",
        "        'sample': processed_tokens[:8]\n",
        "    }\n",
        "\n",
        "    print(f\"\\n📄 {name}:\")\n",
        "    print(f\"   Original: {original_tokens} tokens\")\n",
        "    print(f\"   Processed: {len(processed_tokens)} tokens ({reduction:.1f}% reduction)\")\n",
        "    print(f\"   Sample: {processed_tokens[:8]}\")\n",
        "\n",
        "# Summary table\n",
        "print(f\"\\n\\n📋 Summary Table\")\n",
        "print(f\"{'Text Type':<15} {'Original':<10} {'Processed':<10} {'Reduction':<10}\")\n",
        "print(\"-\" * 50)\n",
        "for name, data in results.items():\n",
        "    print(f\"{name:<15} {data['original']:<10} {data['processed']:<10} {data['reduction']:<10.1f}%\")"
      ]
    },
    {
      "cell_type": "markdown",
      "metadata": {
        "id": "MY3hCn_7eV-A"
      },
      "source": [
        "### 🤔 Final Conceptual Question 13\n",
        "**Looking at the comprehensive analysis results across all text types:**\n",
        "\n",
        "1. **Which text type was most affected by preprocessing?** Why do you think this happened?\n",
        "\n",
        "2. **Which text type was least affected?** What does this tell you about the nature of that text?\n",
        "\n",
        "3. **If you were building an NLP system to analyze customer reviews for a business, which preprocessing approach would you choose and why?**\n",
        "\n",
        "4. **What are the main trade-offs you need to consider when choosing preprocessing techniques for any NLP project?**\n",
        "\n",
        "*Double-click this cell to write your answer:*\n",
        "\n",
        "**1. Most affected text type:** Social Media Text was most significantly affected by preprocessing.\n",
        "Why: This happened because social media language is highly informal, non-standard, and rich in features like emojis, hashtags, slang, and deliberate misspellings. Preprocessing steps designed to normalize text (like lowercasing, stop word removal, stemming, and often the removal of non-alphanumeric characters) heavily alter or discard these unique elements, leading to a substantial loss of context and nuance (e.g., sentiment conveyed by emojis, topics indicated by hashtags).\n",
        "\n",
        "**2. Least affected text type:** Academic Text was likely the least affected.\n",
        "What it tells you about the nature of that text: This tells us that academic text is inherently highly formal, structured, and grammatically consistent. It largely adheres to standard linguistic rules, uses precise vocabulary, and typically avoids informalities, emojis, or slang. Therefore, preprocessing steps like tokenization, lemmatization, and stop word removal primarily serve to standardize word forms rather than significantly alter its core informational content or unique features.\n",
        "\n",
        "**3. For customer review analysis:** For analyzing customer reviews, I would choose a Standard Processing pipeline, with careful consideration for handling specific sentiment-bearing elements.\n",
        "\n",
        "Why:\n",
        "Lemmatization: Crucial for accurately grouping word variations (e.g., \"good,\" \"better,\" \"best\" all map to \"good\") to ensure consistent sentiment and feature extraction. Reviews often use various forms of words to describe features or overall satisfaction.\n",
        "Careful Stop Word Removal: Most common stop words should be removed to focus on content, but one must be cautious not to remove intensifiers (like \"very\" or \"really\") if they're present in the stop word list, as they significantly impact sentiment intensity.\n",
        "Punctuation Handling: While most punctuation can be removed, specific marks (like multiple exclamation marks \"!!!\" or ellipses \"...\") should either be preserved or encoded, as they often convey strong emotion or hesitation in reviews.\n",
        "Emoji/Special Character Awareness: If reviews are collected from platforms where emojis are common, they must be explicitly handled (e.g., converted to sentiment scores or textual descriptions), not merely discarded, as they are direct sentiment indicators.\n",
        "Avoid Aggressive Stemming: Stemming is too crude for reviews, as it would destroy semantic links between related words and degrade the accuracy of sentiment and feature attribution.\n",
        "\n",
        "**4. Main trade-offs to consider:** he main trade-offs are:\n",
        "\n",
        "Accuracy vs. Speed/Computational Cost: More sophisticated preprocessing (e.g., lemmatization, detailed entity resolution, custom rule handling) generally leads to higher NLP model accuracy but requires more processing time and computational resources. Simpler, more aggressive methods are faster but sacrifice accuracy.\n",
        "Information Preservation vs. Noise Reduction: Aggressive preprocessing aims to reduce \"noise\" (e.g., punctuation, stop words, informalities) but risks removing valuable semantic information or context crucial for specific tasks (e.g., sentiment from emojis, sarcasm from punctuation).\n",
        "Generalizability vs. Specificity: A highly tailored preprocessing pipeline might perform exceptionally well on a specific type of text but poorly on others. A more general pipeline is versatile but might not achieve optimal performance on any single, unique text type.\n",
        "Interpretability vs. Complexity: Simpler preprocessing makes the transformed data and downstream model behavior easier to understand and debug. Complex pipelines, while potentially yielding better results, can become opaque and harder to manage.\n",
        "\n",
        "---"
      ]
    },
    {
      "cell_type": "markdown",
      "metadata": {
        "id": "Byb97qokeV-G"
      },
      "source": [
        "## 🎯 Lab Summary and Reflection\n",
        "\n",
        "Congratulations! You've completed a comprehensive exploration of NLP preprocessing techniques.\n",
        "\n",
        "### 🔑 Key Concepts You've Mastered:\n",
        "\n",
        "1. **Text Preprocessing Fundamentals** - Understanding why preprocessing is crucial\n",
        "2. **Tokenization Techniques** - NLTK vs spaCy approaches and their trade-offs\n",
        "3. **Stop Word Management** - When to remove them and when to keep them\n",
        "4. **Morphological Processing** - Stemming vs lemmatization for different use cases\n",
        "5. **Text Cleaning Strategies** - Basic vs advanced cleaning for different text types\n",
        "6. **Pipeline Design** - Building modular, configurable preprocessing systems\n",
        "\n",
        "### 🎓 Real-World Applications:\n",
        "These techniques form the foundation for search engines, chatbots, sentiment analysis, document classification, machine translation, and information extraction systems.\n",
        "\n",
        "### 💡 Key Insights to Remember:\n",
        "- **No Universal Solution**: Different NLP tasks require different preprocessing approaches\n",
        "- **Trade-offs Are Everywhere**: Balance information preservation with noise reduction\n",
        "- **Context Matters**: The same technique can help or hurt depending on your use case\n",
        "- **Experimentation Is Key**: Always test and measure impact on your specific task\n",
        "\n",
        "---\n",
        "\n",
        "**Excellent work completing Lab 02!** 🎉\n",
        "\n",
        "For your reflection journal, focus on the insights you gained about when and why to use different techniques, the challenges you encountered, and connections you made to real-world applications."
      ]
    }
  ],
  "metadata": {
    "kernelspec": {
      "display_name": "Python 3",
      "language": "python",
      "name": "python3"
    },
    "language_info": {
      "codemirror_mode": {
        "name": "ipython",
        "version": 3
      },
      "file_extension": ".py",
      "mimetype": "text/x-python",
      "name": "python",
      "nbconvert_exporter": "python",
      "pygments_lexer": "ipython3",
      "version": "3.11.7"
    },
    "colab": {
      "provenance": [],
      "include_colab_link": true
    }
  },
  "nbformat": 4,
  "nbformat_minor": 0
}